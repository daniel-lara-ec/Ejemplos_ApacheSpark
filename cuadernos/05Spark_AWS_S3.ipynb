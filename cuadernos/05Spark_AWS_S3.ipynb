{
 "cells": [
  {
   "cell_type": "markdown",
   "metadata": {},
   "source": [
    "# 05Spark AWS-S3\n",
    "\n",
    "En este cuaderno conectamos PySpark a un bucket S3 de AWS para leer un archivo parquet. Configura adecuadamente las variables de entorno necesarias.\n",
    "\n",
    "_____\n",
    "\n",
    "\n",
    "In this notebook, we connect to a S3 bucket from AWS to read a parquet file. Remember properly setup the environment variables."
   ]
  },
  {
   "cell_type": "code",
   "execution_count": 1,
   "metadata": {},
   "outputs": [],
   "source": [
    "from pyspark.sql import SparkSession\n",
    "from dotenv import load_dotenv\n",
    "import os"
   ]
  },
  {
   "cell_type": "code",
   "execution_count": 2,
   "metadata": {},
   "outputs": [
    {
     "data": {
      "text/plain": [
       "True"
      ]
     },
     "execution_count": 2,
     "metadata": {},
     "output_type": "execute_result"
    }
   ],
   "source": [
    "load_dotenv()"
   ]
  },
  {
   "cell_type": "code",
   "execution_count": 3,
   "metadata": {},
   "outputs": [],
   "source": [
    "AWS_ACCESS_KEY_ID = os.getenv(\"AWS_ACCESS_KEY_ID\")\n",
    "AWS_SECRET_ACCESS_KEY = os.getenv(\"AWS_SECRET_ACCESS_KEY\")\n",
    "BUCKET_S3 = os.getenv(\"BUCKET_S3\")"
   ]
  },
  {
   "cell_type": "code",
   "execution_count": 4,
   "metadata": {},
   "outputs": [],
   "source": [
    "spark = (\n",
    "    SparkSession.builder.appName(\"Cluster\")\n",
    "    .master(f\"spark://127.0.0.1:7077\")\n",
    "    .config(\n",
    "        \"spark.jars.packages\",\n",
    "        \"org.apache.hadoop:hadoop-aws:3.3.4,com.amazonaws:aws-java-sdk:1.12.780\",\n",
    "    )\n",
    "    .config(\"spark.hadoop.fs.s3a.access.key\", AWS_ACCESS_KEY_ID)\n",
    "    .config(\"spark.hadoop.fs.s3a.secret.key\", AWS_SECRET_ACCESS_KEY)\n",
    "    .config(\"spark.hadoop.fs.s3a.endpoint\", \"s3.amazonaws.com\")\n",
    "    .config(\"spark.hadoop.fs.s3a.path.style.access\", \"true\")\n",
    "    .config(\"spark.hadoop.fs.s3a.impl\", \"org.apache.hadoop.fs.s3a.S3AFileSystem\")\n",
    "    .getOrCreate()\n",
    ")"
   ]
  },
  {
   "cell_type": "code",
   "execution_count": 5,
   "metadata": {},
   "outputs": [
    {
     "name": "stderr",
     "output_type": "stream",
     "text": [
      "                                                                                \r"
     ]
    }
   ],
   "source": [
    "df = spark.read.parquet(f\"s3a://{BUCKET_S3}/Data/Prd/Mediciones.snappy.parquet\")"
   ]
  },
  {
   "cell_type": "code",
   "execution_count": 6,
   "metadata": {},
   "outputs": [
    {
     "name": "stderr",
     "output_type": "stream",
     "text": [
      "                                                                                \r"
     ]
    },
    {
     "name": "stdout",
     "output_type": "stream",
     "text": [
      "+----------+--------+----------+--------------------+-------------------+----------+\n",
      "|IdMedicion|IdSensor|  Medicion|       FechaMedicion|       FechaIngesta|   Periodo|\n",
      "+----------+--------+----------+--------------------+-------------------+----------+\n",
      "|     77463|       1|122.010000|2025-02-13 16:00:...|2025-02-13 17:05:10|2025-02-13|\n",
      "|     77464|       1|115.290000|2025-02-13 16:01:...|2025-02-13 17:05:10|2025-02-13|\n",
      "|     77465|       1|115.980000|2025-02-13 16:02:...|2025-02-13 17:05:10|2025-02-13|\n",
      "|     77466|       1|121.950000|2025-02-13 16:03:...|2025-02-13 17:05:10|2025-02-13|\n",
      "|     77467|       1|116.410000|2025-02-13 16:04:...|2025-02-13 17:05:10|2025-02-13|\n",
      "|     77468|       1|121.920000|2025-02-13 16:05:...|2025-02-13 17:05:10|2025-02-13|\n",
      "|     77469|       1|118.030000|2025-02-13 16:06:...|2025-02-13 17:05:10|2025-02-13|\n",
      "|     77470|       1|121.520000|2025-02-13 16:07:...|2025-02-13 17:05:10|2025-02-13|\n",
      "|     77471|       1|120.700000|2025-02-13 16:08:...|2025-02-13 17:05:10|2025-02-13|\n",
      "|     77472|       1|115.940000|2025-02-13 16:09:...|2025-02-13 17:05:10|2025-02-13|\n",
      "|     77473|       1|115.850000|2025-02-13 16:10:...|2025-02-13 17:05:10|2025-02-13|\n",
      "|     77474|       1|120.710000|2025-02-13 16:11:...|2025-02-13 17:05:10|2025-02-13|\n",
      "|     77475|       1|121.910000|2025-02-13 16:12:...|2025-02-13 17:05:10|2025-02-13|\n",
      "|     77476|       1|121.140000|2025-02-13 16:13:...|2025-02-13 17:05:10|2025-02-13|\n",
      "|     77477|       1|115.670000|2025-02-13 16:14:...|2025-02-13 17:05:10|2025-02-13|\n",
      "|     77478|       1|121.660000|2025-02-13 16:15:...|2025-02-13 17:05:10|2025-02-13|\n",
      "|     77479|       1|120.700000|2025-02-13 16:16:...|2025-02-13 17:05:10|2025-02-13|\n",
      "|     77480|       1|121.550000|2025-02-13 16:17:...|2025-02-13 17:05:10|2025-02-13|\n",
      "|     77481|       1|115.630000|2025-02-13 16:18:...|2025-02-13 17:05:10|2025-02-13|\n",
      "|     77482|       1|115.300000|2025-02-13 16:19:...|2025-02-13 17:05:10|2025-02-13|\n",
      "+----------+--------+----------+--------------------+-------------------+----------+\n",
      "only showing top 20 rows\n",
      "\n"
     ]
    }
   ],
   "source": [
    "df.show()"
   ]
  }
 ],
 "metadata": {
  "kernelspec": {
   "display_name": ".venv",
   "language": "python",
   "name": "python3"
  },
  "language_info": {
   "codemirror_mode": {
    "name": "ipython",
    "version": 3
   },
   "file_extension": ".py",
   "mimetype": "text/x-python",
   "name": "python",
   "nbconvert_exporter": "python",
   "pygments_lexer": "ipython3",
   "version": "3.12.6"
  }
 },
 "nbformat": 4,
 "nbformat_minor": 2
}
