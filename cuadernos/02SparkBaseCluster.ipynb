{
 "cells": [
  {
   "cell_type": "markdown",
   "metadata": {},
   "source": [
    "# 02SparkBaseCluster\n",
    "\n",
    "En este cuaderno conectamos el interprete de PySpark a un Cluster.\n",
    "\n",
    "Primero, iniciamos el driver con \n",
    "```\n",
    "start-master.sh\n",
    "```\n",
    "Luego, iniciamos un trabajador:\n",
    "```\n",
    "start-worker.sh spark://127.0.0.1:7077\n",
    "```\n",
    "Para este ejemplo estoy utilizando la misma instancia. Modifica la IP y el puerto si es necesario. \n",
    "\n",
    "_____\n",
    "\n",
    "\n",
    "This notebook has an example for connect a PySpark with a Spark Cluster.\n",
    "\n",
    "Frist, start driver with:\n",
    "```\n",
    "start-master.sh\n",
    "```\n",
    "Then, start a worker with:\n",
    "```\n",
    "start-worker.sh spark://127.0.0.1:7077\n",
    "```\n",
    "For this example I'm use a single instance. Modify IP and port if you need."
   ]
  },
  {
   "cell_type": "code",
   "execution_count": 1,
   "metadata": {},
   "outputs": [],
   "source": [
    "from pyspark.sql import SparkSession"
   ]
  },
  {
   "cell_type": "code",
   "execution_count": 2,
   "metadata": {},
   "outputs": [
    {
     "name": "stderr",
     "output_type": "stream",
     "text": [
      "Setting default log level to \"WARN\".\n",
      "To adjust logging level use sc.setLogLevel(newLevel). For SparkR, use setLogLevel(newLevel).\n",
      "25/02/13 17:27:09 WARN NativeCodeLoader: Unable to load native-hadoop library for your platform... using builtin-java classes where applicable\n"
     ]
    }
   ],
   "source": [
    "spark = SparkSession.builder \\\n",
    "        .appName(\"Cluster\") \\\n",
    "        .master(f\"spark://127.0.0.1:7077\") \\\n",
    "        .getOrCreate()"
   ]
  },
  {
   "cell_type": "markdown",
   "metadata": {},
   "source": [
    "Creamos un dataframe y lo mostramos"
   ]
  },
  {
   "cell_type": "code",
   "execution_count": 3,
   "metadata": {},
   "outputs": [],
   "source": [
    "Datos = [(\"Javier\", 23), (\"Marta\", 34), (\"Pedro\", 45), (\"Ana\", 56), (\"Luis\", 67)]"
   ]
  },
  {
   "cell_type": "code",
   "execution_count": 4,
   "metadata": {},
   "outputs": [],
   "source": [
    "df = spark.createDataFrame(Datos, [\"Nombre\", \"Edad\"])"
   ]
  },
  {
   "cell_type": "code",
   "execution_count": 5,
   "metadata": {},
   "outputs": [
    {
     "name": "stderr",
     "output_type": "stream",
     "text": [
      "                                                                                \r"
     ]
    },
    {
     "name": "stdout",
     "output_type": "stream",
     "text": [
      "+------+----+\n",
      "|Nombre|Edad|\n",
      "+------+----+\n",
      "|Javier|  23|\n",
      "| Marta|  34|\n",
      "| Pedro|  45|\n",
      "|   Ana|  56|\n",
      "|  Luis|  67|\n",
      "+------+----+\n",
      "\n"
     ]
    }
   ],
   "source": [
    "df.show()"
   ]
  }
 ],
 "metadata": {
  "kernelspec": {
   "display_name": ".venv",
   "language": "python",
   "name": "python3"
  },
  "language_info": {
   "codemirror_mode": {
    "name": "ipython",
    "version": 3
   },
   "file_extension": ".py",
   "mimetype": "text/x-python",
   "name": "python",
   "nbconvert_exporter": "python",
   "pygments_lexer": "ipython3",
   "version": "3.12.6"
  }
 },
 "nbformat": 4,
 "nbformat_minor": 2
}
