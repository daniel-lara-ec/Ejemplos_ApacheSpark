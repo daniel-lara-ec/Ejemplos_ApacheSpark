{
 "cells": [
  {
   "cell_type": "markdown",
   "metadata": {},
   "source": [
    "# 05Spark Azure-Blob Storage\n",
    "\n",
    "En este cuaderno conectamos PySpark a un Blob de Azure para leer un archivo parquet. Configura adecuadamente las variables de entorno necesarias.\n",
    "\n",
    "_____\n",
    "\n",
    "\n",
    "In this notebook, we connect to a Blub from Azure to read a parquet file. Remember properly setup the environment variables."
   ]
  },
  {
   "cell_type": "code",
   "execution_count": 1,
   "metadata": {},
   "outputs": [],
   "source": [
    "from pyspark.sql import SparkSession\n",
    "from dotenv import load_dotenv\n",
    "import os"
   ]
  },
  {
   "cell_type": "code",
   "execution_count": 2,
   "metadata": {},
   "outputs": [
    {
     "data": {
      "text/plain": [
       "True"
      ]
     },
     "execution_count": 2,
     "metadata": {},
     "output_type": "execute_result"
    }
   ],
   "source": [
    "load_dotenv()"
   ]
  },
  {
   "cell_type": "code",
   "execution_count": 3,
   "metadata": {},
   "outputs": [],
   "source": [
    "ACCOUNT_NAME = os.getenv(\"ACCOUNT_NAME\")\n",
    "ACCOUNT_KEY = os.getenv(\"ACCOUNT_KEY\")\n",
    "BLOB_NAME = os.getenv(\"BLOB_NAME\")"
   ]
  },
  {
   "cell_type": "code",
   "execution_count": 4,
   "metadata": {},
   "outputs": [],
   "source": [
    "spark = (\n",
    "    SparkSession.builder.appName(\"Cluster\")\n",
    "    .master(f\"spark://127.0.0.1:7077\") \n",
    "    .config(\"spark.jars.packages\",\"org.apache.hadoop:hadoop-azure:3.3.1,org.apache.hadoop:hadoop-aws:3.3.4\") \n",
    "    .config(f\"spark.hadoop.fs.azure.account.key.{ACCOUNT_NAME}.dfs.core.windows.net\",ACCOUNT_KEY)\n",
    "    .getOrCreate() \n",
    ")"
   ]
  },
  {
   "cell_type": "code",
   "execution_count": 5,
   "metadata": {},
   "outputs": [
    {
     "name": "stderr",
     "output_type": "stream",
     "text": [
      "                                                                                \r"
     ]
    }
   ],
   "source": [
    "df = spark.read.parquet(f\"abfss://{BLOB_NAME}@{ACCOUNT_NAME}.dfs.core.windows.net/IoT/ZR_ArchivoMediciones/\")"
   ]
  },
  {
   "cell_type": "code",
   "execution_count": 6,
   "metadata": {},
   "outputs": [
    {
     "name": "stderr",
     "output_type": "stream",
     "text": [
      "                                                                                \r"
     ]
    },
    {
     "name": "stdout",
     "output_type": "stream",
     "text": [
      "+----------+--------+----------+--------------------+--------------------+----------+\n",
      "|IdMedicion|IdSensor|  Medicion|       FechaMedicion|        FechaIngesta|   Periodo|\n",
      "+----------+--------+----------+--------------------+--------------------+----------+\n",
      "|      7339|       1|122.810000|2024-12-24 00:00:...|2025-01-05 19:39:...|2024-12-24|\n",
      "|      7340|       1|116.470000|2024-12-24 00:01:...|2025-01-05 19:39:...|2024-12-24|\n",
      "|      7341|       1|122.240000|2024-12-24 00:02:...|2025-01-05 19:39:...|2024-12-24|\n",
      "|      7342|       1|116.270000|2024-12-24 00:03:...|2025-01-05 19:39:...|2024-12-24|\n",
      "|      7343|       1|122.390000|2024-12-24 00:04:...|2025-01-05 19:39:...|2024-12-24|\n",
      "|      7344|       1|121.370000|2024-12-24 00:05:...|2025-01-05 19:39:...|2024-12-24|\n",
      "|      7345|       1|118.330000|2024-12-24 00:06:...|2025-01-05 19:39:...|2024-12-24|\n",
      "|      7346|       1|121.240000|2024-12-24 00:08:...|2025-01-05 19:39:...|2024-12-24|\n",
      "|      7347|       1|116.350000|2024-12-24 00:09:...|2025-01-05 19:39:...|2024-12-24|\n",
      "|      7348|       1|122.650000|2024-12-24 00:10:...|2025-01-05 19:39:...|2024-12-24|\n",
      "|      7349|       1|117.360000|2024-12-24 00:11:...|2025-01-05 19:39:...|2024-12-24|\n",
      "|      7350|       1|117.200000|2024-12-24 00:12:...|2025-01-05 19:39:...|2024-12-24|\n",
      "|      7351|       1|122.000000|2024-12-24 00:13:...|2025-01-05 19:39:...|2024-12-24|\n",
      "|      7352|       1|116.620000|2024-12-24 00:14:...|2025-01-05 19:39:...|2024-12-24|\n",
      "|      7353|       1|117.080000|2024-12-24 00:15:...|2025-01-05 19:39:...|2024-12-24|\n",
      "|      7354|       1|121.100000|2024-12-24 00:16:...|2025-01-05 19:39:...|2024-12-24|\n",
      "|      7355|       1|116.190000|2024-12-24 00:17:...|2025-01-05 19:39:...|2024-12-24|\n",
      "|      7356|       1|116.460000|2024-12-24 00:18:...|2025-01-05 19:39:...|2024-12-24|\n",
      "|      7357|       1|116.370000|2024-12-24 00:19:...|2025-01-05 19:39:...|2024-12-24|\n",
      "|      7358|       1|121.530000|2024-12-24 00:20:...|2025-01-05 19:39:...|2024-12-24|\n",
      "+----------+--------+----------+--------------------+--------------------+----------+\n",
      "only showing top 20 rows\n",
      "\n"
     ]
    }
   ],
   "source": [
    "df.show()"
   ]
  }
 ],
 "metadata": {
  "kernelspec": {
   "display_name": ".venv",
   "language": "python",
   "name": "python3"
  },
  "language_info": {
   "codemirror_mode": {
    "name": "ipython",
    "version": 3
   },
   "file_extension": ".py",
   "mimetype": "text/x-python",
   "name": "python",
   "nbconvert_exporter": "python",
   "pygments_lexer": "ipython3",
   "version": "3.12.6"
  }
 },
 "nbformat": 4,
 "nbformat_minor": 2
}
