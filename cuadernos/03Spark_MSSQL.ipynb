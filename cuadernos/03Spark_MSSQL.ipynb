{
 "cells": [
  {
   "cell_type": "markdown",
   "metadata": {},
   "source": [
    "# 03Spark_MSSQL\n",
    "\n",
    "En este cuaderno conectamos PySpark a una base de datos MSSQL y obtenemos una tabla. Seguimos los pasos del cuaderno anterior y completamos las variables de entorno adecuadas en el archivo .env.\n",
    "\n",
    "_____\n",
    "\n",
    "\n",
    "In this notebook, we connect to a MSSQL DB and get a table. For setup follow the instructions of previous notebook and fill the environment variables in .env file."
   ]
  },
  {
   "cell_type": "code",
   "execution_count": 1,
   "metadata": {},
   "outputs": [],
   "source": [
    "from pyspark.sql import SparkSession\n",
    "from dotenv import load_dotenv\n",
    "import os"
   ]
  },
  {
   "cell_type": "code",
   "execution_count": 2,
   "metadata": {},
   "outputs": [
    {
     "data": {
      "text/plain": [
       "True"
      ]
     },
     "execution_count": 2,
     "metadata": {},
     "output_type": "execute_result"
    }
   ],
   "source": [
    "load_dotenv()"
   ]
  },
  {
   "cell_type": "code",
   "execution_count": 3,
   "metadata": {},
   "outputs": [],
   "source": [
    "IP_DB = os.getenv(\"IP_DB\")\n",
    "USR_DB = os.getenv(\"USR_DB\")\n",
    "PASS_DB = os.getenv(\"PASS_DB\")\n",
    "DB_NAME = os.getenv(\"DB_NAME\")"
   ]
  },
  {
   "cell_type": "code",
   "execution_count": 4,
   "metadata": {},
   "outputs": [
    {
     "name": "stdout",
     "output_type": "stream",
     "text": [
      ":: loading settings :: url = jar:file:/usr/local/spark/jars/ivy-2.5.1.jar!/org/apache/ivy/core/settings/ivysettings.xml\n"
     ]
    },
    {
     "name": "stderr",
     "output_type": "stream",
     "text": [
      "Ivy Default Cache set to: /home/administrator/.ivy2/cache\n",
      "The jars for the packages stored in: /home/administrator/.ivy2/jars\n",
      "com.microsoft.sqlserver#mssql-jdbc added as a dependency\n",
      ":: resolving dependencies :: org.apache.spark#spark-submit-parent-1de9709c-927d-45da-8f6b-aeb5158c9d41;1.0\n",
      "\tconfs: [default]\n",
      "\tfound com.microsoft.sqlserver#mssql-jdbc;12.8.1.jre11 in central\n",
      ":: resolution report :: resolve 99ms :: artifacts dl 2ms\n",
      "\t:: modules in use:\n",
      "\tcom.microsoft.sqlserver#mssql-jdbc;12.8.1.jre11 from central in [default]\n",
      "\t---------------------------------------------------------------------\n",
      "\t|                  |            modules            ||   artifacts   |\n",
      "\t|       conf       | number| search|dwnlded|evicted|| number|dwnlded|\n",
      "\t---------------------------------------------------------------------\n",
      "\t|      default     |   1   |   0   |   0   |   0   ||   1   |   0   |\n",
      "\t---------------------------------------------------------------------\n",
      ":: retrieving :: org.apache.spark#spark-submit-parent-1de9709c-927d-45da-8f6b-aeb5158c9d41\n",
      "\tconfs: [default]\n",
      "\t0 artifacts copied, 1 already retrieved (0kB/3ms)\n",
      "25/02/13 20:03:17 WARN NativeCodeLoader: Unable to load native-hadoop library for your platform... using builtin-java classes where applicable\n",
      "Setting default log level to \"WARN\".\n",
      "To adjust logging level use sc.setLogLevel(newLevel). For SparkR, use setLogLevel(newLevel).\n"
     ]
    }
   ],
   "source": [
    "spark = (\n",
    "    SparkSession.builder.appName(\"Cluster\")\n",
    "    .master(f\"spark://127.0.0.1:7077\")\n",
    "    .config(\n",
    "        \"spark.jars.packages\",\n",
    "        \"com.microsoft.sqlserver:mssql-jdbc:12.8.1.jre11\",\n",
    "    )\n",
    "    .getOrCreate()\n",
    ")"
   ]
  },
  {
   "cell_type": "code",
   "execution_count": 5,
   "metadata": {},
   "outputs": [],
   "source": [
    "JDBC_URL_SQL_SERVER = f\"jdbc:sqlserver://{IP_DB}:1433;databaseName={DB_NAME};encrypt=true;trustServerCertificate=true\"\n",
    "SQL_SERVER_PROPERTIES = {\n",
    "    \"user\": USR_DB,\n",
    "    \"password\": PASS_DB,\n",
    "    \"driver\": \"com.microsoft.sqlserver.jdbc.SQLServerDriver\",\n",
    "}\n"
   ]
  },
  {
   "cell_type": "code",
   "execution_count": 6,
   "metadata": {},
   "outputs": [],
   "source": [
    "df = spark.read.jdbc(\n",
    "    url=JDBC_URL_SQL_SERVER, table=\"FactCallCenter\", properties=SQL_SERVER_PROPERTIES\n",
    ")\n"
   ]
  },
  {
   "cell_type": "code",
   "execution_count": 7,
   "metadata": {},
   "outputs": [
    {
     "name": "stderr",
     "output_type": "stream",
     "text": [
      "                                                                                \r"
     ]
    },
    {
     "name": "stdout",
     "output_type": "stream",
     "text": [
      "+----------------+--------+--------+--------+-----------------+-----------------+--------------+-----+------------------+------+------------+-------------------+------------+-------------------+\n",
      "|FactCallCenterID| DateKey|WageType|   Shift|LevelOneOperators|LevelTwoOperators|TotalOperators|Calls|AutomaticResponses|Orders|IssuesRaised|AverageTimePerIssue|ServiceGrade|               Date|\n",
      "+----------------+--------+--------+--------+-----------------+-----------------+--------------+-----+------------------+------+------------+-------------------+------------+-------------------+\n",
      "|               1|20140501| weekday|      AM|                2|                7|             9|  405|               283|   341|           2|                 79|        0.03|2014-05-01 00:00:00|\n",
      "|               2|20140501| weekday|     PM1|                2|               10|            12|  389|               256|   251|           1|                 94|        0.12|2014-05-01 00:00:00|\n",
      "|               3|20140501| weekday|     PM2|                3|               11|            14|  358|               268|   255|           1|                 92|        0.14|2014-05-01 00:00:00|\n",
      "|               4|20140501| weekday|midnight|                1|                4|             5|  219|               140|   162|           2|                 73|        0.08|2014-05-01 00:00:00|\n",
      "|               5|20140502| weekday|      AM|                2|                8|            10|  264|               170|   189|           1|                 58|        0.09|2014-05-02 00:00:00|\n",
      "|               6|20140502| weekday|     PM1|                3|               10|            13|  539|               338|   381|           1|                 83|        0.08|2014-05-02 00:00:00|\n",
      "|               7|20140502| weekday|     PM2|                3|               12|            15|  469|               308|   307|           2|                 85|        0.16|2014-05-02 00:00:00|\n",
      "|               8|20140502| weekday|midnight|                1|                3|             4|  178|               116|   136|           2|                 68|        0.04|2014-05-02 00:00:00|\n",
      "|               9|20140503| holiday|      AM|                2|                8|            10|  416|               279|   274|           1|                 84|        0.12|2014-05-03 00:00:00|\n",
      "|              10|20140503| holiday|     PM1|                3|                9|            12|  407|               229|   266|           0|                 79|         0.1|2014-05-03 00:00:00|\n",
      "|              11|20140503| holiday|     PM2|                3|               10|            13|  290|               211|   178|           1|                 70|        0.16|2014-05-03 00:00:00|\n",
      "|              12|20140503| holiday|midnight|                1|                4|             5|  223|                96|   130|           2|                 76|        0.13|2014-05-03 00:00:00|\n",
      "|              13|20140504| holiday|      AM|                2|                8|            10|  376|               262|   265|           2|                 64|         0.1|2014-05-04 00:00:00|\n",
      "|              14|20140504| holiday|     PM1|                3|               10|            13|  392|               231|   283|           2|                 70|        0.06|2014-05-04 00:00:00|\n",
      "|              15|20140504| holiday|     PM2|                4|               12|            16|  623|               476|   427|           2|                 81|        0.05|2014-05-04 00:00:00|\n",
      "|              16|20140504| holiday|midnight|                1|                6|             7|  225|               111|   149|           2|                 94|        0.11|2014-05-04 00:00:00|\n",
      "|              17|20140505| holiday|      AM|                1|                6|             7|  245|               163|   147|           1|                 82|        0.16|2014-05-05 00:00:00|\n",
      "|              18|20140505| holiday|     PM1|                2|                9|            11|  335|               215|   271|           0|                 72|        0.05|2014-05-05 00:00:00|\n",
      "|              19|20140505| holiday|     PM2|                3|                9|            12|  400|               273|   280|           2|                 73|        0.09|2014-05-05 00:00:00|\n",
      "|              20|20140505| holiday|midnight|                0|                3|             3|   98|                65|    64|           1|                 87|        0.12|2014-05-05 00:00:00|\n",
      "+----------------+--------+--------+--------+-----------------+-----------------+--------------+-----+------------------+------+------------+-------------------+------------+-------------------+\n",
      "only showing top 20 rows\n",
      "\n"
     ]
    },
    {
     "name": "stderr",
     "output_type": "stream",
     "text": [
      "25/02/13 20:12:11 ERROR StandaloneSchedulerBackend: Application has been killed. Reason: Master removed our application: KILLED\n",
      "25/02/13 20:12:11 ERROR Inbox: Ignoring error\n",
      "org.apache.spark.SparkException: Exiting due to error from cluster scheduler: Master removed our application: KILLED\n",
      "\tat org.apache.spark.errors.SparkCoreErrors$.clusterSchedulerError(SparkCoreErrors.scala:291)\n",
      "\tat org.apache.spark.scheduler.TaskSchedulerImpl.error(TaskSchedulerImpl.scala:981)\n",
      "\tat org.apache.spark.scheduler.cluster.StandaloneSchedulerBackend.dead(StandaloneSchedulerBackend.scala:165)\n",
      "\tat org.apache.spark.deploy.client.StandaloneAppClient$ClientEndpoint.markDead(StandaloneAppClient.scala:263)\n",
      "\tat org.apache.spark.deploy.client.StandaloneAppClient$ClientEndpoint$$anonfun$receive$1.applyOrElse(StandaloneAppClient.scala:170)\n",
      "\tat org.apache.spark.rpc.netty.Inbox.$anonfun$process$1(Inbox.scala:115)\n",
      "\tat org.apache.spark.rpc.netty.Inbox.safelyCall(Inbox.scala:213)\n",
      "\tat org.apache.spark.rpc.netty.Inbox.process(Inbox.scala:100)\n",
      "\tat org.apache.spark.rpc.netty.MessageLoop.org$apache$spark$rpc$netty$MessageLoop$$receiveLoop(MessageLoop.scala:75)\n",
      "\tat org.apache.spark.rpc.netty.MessageLoop$$anon$1.run(MessageLoop.scala:41)\n",
      "\tat java.base/java.util.concurrent.ThreadPoolExecutor.runWorker(ThreadPoolExecutor.java:1128)\n",
      "\tat java.base/java.util.concurrent.ThreadPoolExecutor$Worker.run(ThreadPoolExecutor.java:628)\n",
      "\tat java.base/java.lang.Thread.run(Thread.java:829)\n"
     ]
    }
   ],
   "source": [
    "df.show()"
   ]
  }
 ],
 "metadata": {
  "kernelspec": {
   "display_name": ".venv",
   "language": "python",
   "name": "python3"
  },
  "language_info": {
   "codemirror_mode": {
    "name": "ipython",
    "version": 3
   },
   "file_extension": ".py",
   "mimetype": "text/x-python",
   "name": "python",
   "nbconvert_exporter": "python",
   "pygments_lexer": "ipython3",
   "version": "3.12.6"
  }
 },
 "nbformat": 4,
 "nbformat_minor": 2
}
